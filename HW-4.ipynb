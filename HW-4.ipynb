{
 "cells": [
  {
   "cell_type": "markdown",
   "metadata": {},
   "source": [
    "# Тарасова Анастасия"
   ]
  },
  {
   "cell_type": "markdown",
   "metadata": {
    "id": "pDrecLU-4QjS"
   },
   "source": [
    "# Практика\n",
    "Используемые библиотеки"
   ]
  },
  {
   "cell_type": "code",
   "execution_count": 1,
   "metadata": {},
   "outputs": [],
   "source": [
    "import pandas as pd\n",
    "import numpy as np\n",
    "import requests # for web-download\n",
    "import io # for web-download\n",
    "import re # for data processing\n"
   ]
  },
  {
   "cell_type": "markdown",
   "metadata": {},
   "source": [
    "## Загрузка DataFrame\n",
    "### Задача 1\n",
    "На основании данных портала \"Открытые данные России\" о результатах Химического анализа родника в Нескучном саду https://data.gov.ru/opendata/7708660670-rodnik-neskuchniy-sad\n",
    "средствами библиотеки __Pandas__ сформируйте поле выводов по каждому анализирумомому параметру.\n",
    "Например, по показателю _pH_ получен результат _8.4 единицы pH_ при нормативе от _6 до 9 единиц pH_. Т.о. по данному показателю результат анализа в норме.\n",
    "Для решения задачи необходимо программно \"прочитать и понять\" значение столбца \"Норматив\" и выделенное численное значение сравнить с нормативом согласно логике норматива. Например, __6 >= pH >= 9__.\n",
    "В итоговом DataFrame столбец \"Показатель\" сделайте индексным.\n",
    "\n",
    "\n",
    "Загзрузка DataFrame выполняется непосредственно c сайта \"Открытые данные России\" https://data.gov.ru/opendata/7708660670-rodnik-neskuchniy-sad/data-20160608T1215-structure-20160608T1215.csv (см. код ниже).\n"
   ]
  },
  {
   "cell_type": "code",
   "execution_count": 26,
   "metadata": {
    "scrolled": true
   },
   "outputs": [],
   "source": [
    "### Если не работает загрузка on-line\n",
    "df=pd.read_csv(\"Химический анализ родника в Нескучном саду.csv\", sep=';', index_col = \"Показатель\")"
   ]
  },
  {
   "cell_type": "code",
   "execution_count": 27,
   "metadata": {},
   "outputs": [
    {
     "name": "stdout",
     "output_type": "stream",
     "text": [
      "<class 'pandas.core.frame.DataFrame'>\n",
      "Index: 14 entries, pH to Окисляемость перманганатная\n",
      "Data columns (total 3 columns):\n",
      " #   Column             Non-Null Count  Dtype \n",
      "---  ------             --------------  ----- \n",
      " 0   Единица измерений  14 non-null     object\n",
      " 1   Результат анализа  14 non-null     object\n",
      " 2   Норматив           14 non-null     object\n",
      "dtypes: object(3)\n",
      "memory usage: 448.0+ bytes\n"
     ]
    }
   ],
   "source": [
    "df.info()"
   ]
  },
  {
   "cell_type": "code",
   "execution_count": 46,
   "metadata": {},
   "outputs": [],
   "source": [
    "df.loc['Цветность','Результат анализа'] = 0"
   ]
  },
  {
   "cell_type": "code",
   "execution_count": 47,
   "metadata": {},
   "outputs": [],
   "source": [
    "df['Результат анализа'] = df['Результат анализа'].astype('float')"
   ]
  },
  {
   "cell_type": "code",
   "execution_count": 55,
   "metadata": {},
   "outputs": [],
   "source": [
    "def norm(x,y):\n",
    "    \"\"\" x результат\n",
    "        y норматив\"\"\"\n",
    "    if y.__contains__('в пределах'):\n",
    "        list_val = re.findall('[0-9,]+',y)\n",
    "        if x>=float(list_val[0]) and x<=float(list_val[1]):\n",
    "            return 'норма'\n",
    "        elif x< float(list_val[0]):\n",
    "            return 'ниже нормы'\n",
    "        else:\n",
    "            'выше нормы'\n",
    "    elif y.__contains__('не более'):\n",
    "        val = re.findall('[0-9,]+',y)[-1].replace(',','.')\n",
    "        if x > float(val):\n",
    "            return 'выше нормы'\n",
    "        else:\n",
    "            return 'норма'"
   ]
  },
  {
   "cell_type": "code",
   "execution_count": 57,
   "metadata": {},
   "outputs": [],
   "source": [
    "df['оценка'] = list(map(norm, df['Результат анализа'],df['Норматив']))"
   ]
  },
  {
   "cell_type": "code",
   "execution_count": 58,
   "metadata": {
    "scrolled": false
   },
   "outputs": [
    {
     "data": {
      "text/html": [
       "<div>\n",
       "<style scoped>\n",
       "    .dataframe tbody tr th:only-of-type {\n",
       "        vertical-align: middle;\n",
       "    }\n",
       "\n",
       "    .dataframe tbody tr th {\n",
       "        vertical-align: top;\n",
       "    }\n",
       "\n",
       "    .dataframe thead th {\n",
       "        text-align: right;\n",
       "    }\n",
       "</style>\n",
       "<table border=\"1\" class=\"dataframe\">\n",
       "  <thead>\n",
       "    <tr style=\"text-align: right;\">\n",
       "      <th></th>\n",
       "      <th>Единица измерений</th>\n",
       "      <th>Результат анализа</th>\n",
       "      <th>Норматив</th>\n",
       "      <th>оценка</th>\n",
       "    </tr>\n",
       "    <tr>\n",
       "      <th>Показатель</th>\n",
       "      <th></th>\n",
       "      <th></th>\n",
       "      <th></th>\n",
       "      <th></th>\n",
       "    </tr>\n",
       "  </thead>\n",
       "  <tbody>\n",
       "    <tr>\n",
       "      <th>pH</th>\n",
       "      <td>единицы pH</td>\n",
       "      <td>8.400</td>\n",
       "      <td>в пределах 6-9</td>\n",
       "      <td>норма</td>\n",
       "    </tr>\n",
       "    <tr>\n",
       "      <th>Запах</th>\n",
       "      <td>баллы</td>\n",
       "      <td>1.000</td>\n",
       "      <td>не более 2-3</td>\n",
       "      <td>норма</td>\n",
       "    </tr>\n",
       "    <tr>\n",
       "      <th>Цветность</th>\n",
       "      <td>градусы</td>\n",
       "      <td>0.000</td>\n",
       "      <td>не более 30</td>\n",
       "      <td>норма</td>\n",
       "    </tr>\n",
       "    <tr>\n",
       "      <th>Жёсткость</th>\n",
       "      <td>мг-эквл/дм3</td>\n",
       "      <td>9.200</td>\n",
       "      <td>в пределах 7-10</td>\n",
       "      <td>норма</td>\n",
       "    </tr>\n",
       "    <tr>\n",
       "      <th>Аммиак и аммоний-ион (по азоту)</th>\n",
       "      <td>мг/дм3</td>\n",
       "      <td>0.420</td>\n",
       "      <td>не более 1,5</td>\n",
       "      <td>норма</td>\n",
       "    </tr>\n",
       "    <tr>\n",
       "      <th>Нитриты (по NO2)</th>\n",
       "      <td>мг/дм3</td>\n",
       "      <td>0.017</td>\n",
       "      <td>не более 3,3</td>\n",
       "      <td>норма</td>\n",
       "    </tr>\n",
       "    <tr>\n",
       "      <th>Нитраты (по NO3)</th>\n",
       "      <td>мг/дм3</td>\n",
       "      <td>24.000</td>\n",
       "      <td>не более 45</td>\n",
       "      <td>норма</td>\n",
       "    </tr>\n",
       "    <tr>\n",
       "      <th>Фосфаты (P)</th>\n",
       "      <td>мг/дм3</td>\n",
       "      <td>0.360</td>\n",
       "      <td>не более 3,5</td>\n",
       "      <td>норма</td>\n",
       "    </tr>\n",
       "    <tr>\n",
       "      <th>Хлориды (Cl)</th>\n",
       "      <td>мг/дм3</td>\n",
       "      <td>200.000</td>\n",
       "      <td>не более 350</td>\n",
       "      <td>норма</td>\n",
       "    </tr>\n",
       "    <tr>\n",
       "      <th>Сульфаты (SO4)</th>\n",
       "      <td>мг/дм3</td>\n",
       "      <td>189.500</td>\n",
       "      <td>не более 500</td>\n",
       "      <td>норма</td>\n",
       "    </tr>\n",
       "    <tr>\n",
       "      <th>Железо (включая хлорное железо) по Fe</th>\n",
       "      <td>мг/дм3</td>\n",
       "      <td>0.019</td>\n",
       "      <td>не более 0,3</td>\n",
       "      <td>норма</td>\n",
       "    </tr>\n",
       "    <tr>\n",
       "      <th>Нефть</th>\n",
       "      <td>мг/дм3</td>\n",
       "      <td>0.550</td>\n",
       "      <td>не более 0,3</td>\n",
       "      <td>выше нормы</td>\n",
       "    </tr>\n",
       "    <tr>\n",
       "      <th>Общая минерализация (сухой остаток)</th>\n",
       "      <td>мг/дм3</td>\n",
       "      <td>590.000</td>\n",
       "      <td>не более 1000</td>\n",
       "      <td>норма</td>\n",
       "    </tr>\n",
       "    <tr>\n",
       "      <th>Окисляемость перманганатная</th>\n",
       "      <td>мг/дм3</td>\n",
       "      <td>2.000</td>\n",
       "      <td>не более 0,5</td>\n",
       "      <td>выше нормы</td>\n",
       "    </tr>\n",
       "  </tbody>\n",
       "</table>\n",
       "</div>"
      ],
      "text/plain": [
       "                                      Единица измерений  Результат анализа  \\\n",
       "Показатель                                                                   \n",
       "pH                                           единицы pH              8.400   \n",
       "Запах                                             баллы              1.000   \n",
       "Цветность                                       градусы              0.000   \n",
       "Жёсткость                                   мг-эквл/дм3              9.200   \n",
       "Аммиак и аммоний-ион (по азоту)                  мг/дм3              0.420   \n",
       "Нитриты (по NO2)                                 мг/дм3              0.017   \n",
       "Нитраты (по NO3)                                 мг/дм3             24.000   \n",
       "Фосфаты (P)                                      мг/дм3              0.360   \n",
       "Хлориды (Cl)                                     мг/дм3            200.000   \n",
       "Сульфаты (SO4)                                   мг/дм3            189.500   \n",
       "Железо (включая хлорное железо) по Fe            мг/дм3              0.019   \n",
       "Нефть                                            мг/дм3              0.550   \n",
       "Общая минерализация (сухой остаток)              мг/дм3            590.000   \n",
       "Окисляемость перманганатная                      мг/дм3              2.000   \n",
       "\n",
       "                                              Норматив      оценка  \n",
       "Показатель                                                          \n",
       "pH                                      в пределах 6-9       норма  \n",
       "Запах                                     не более 2-3       норма  \n",
       "Цветность                                  не более 30       норма  \n",
       "Жёсткость                              в пределах 7-10       норма  \n",
       "Аммиак и аммоний-ион (по азоту)           не более 1,5       норма  \n",
       "Нитриты (по NO2)                          не более 3,3       норма  \n",
       "Нитраты (по NO3)                           не более 45       норма  \n",
       "Фосфаты (P)                               не более 3,5       норма  \n",
       "Хлориды (Cl)                              не более 350       норма  \n",
       "Сульфаты (SO4)                            не более 500       норма  \n",
       "Железо (включая хлорное железо) по Fe     не более 0,3       норма  \n",
       "Нефть                                     не более 0,3  выше нормы  \n",
       "Общая минерализация (сухой остаток)      не более 1000       норма  \n",
       "Окисляемость перманганатная               не более 0,5  выше нормы  "
      ]
     },
     "execution_count": 58,
     "metadata": {},
     "output_type": "execute_result"
    }
   ],
   "source": [
    "df"
   ]
  },
  {
   "cell_type": "markdown",
   "metadata": {
    "id": "gUvTNDlMaV-a"
   },
   "source": [
    "## Теория вероятности. События\n",
    "\n",
    "Требуется сгенерировать необходимые выборки и произвести по ним расчеты"
   ]
  },
  {
   "cell_type": "markdown",
   "metadata": {
    "id": "t0XOMos2Tl0e"
   },
   "source": [
    "### Задача 2\n",
    "В ящике 5 апельсинов и 4 яблока. Наудачу выбираются 3 фрукта. Какова вероятность, что все три фрукта – апельсины?\n",
    "\n",
    "В интернете полученный аналитически ответ 0.119. Подтверждается ли он эксперементально?\n"
   ]
  },
  {
   "cell_type": "code",
   "execution_count": 135,
   "metadata": {},
   "outputs": [
    {
     "data": {
      "text/plain": [
       "0.119"
      ]
     },
     "execution_count": 135,
     "metadata": {},
     "output_type": "execute_result"
    }
   ],
   "source": [
    "#аналитический расчет\n",
    "import math \n",
    "from random import shuffle\n",
    "import scipy.stats as st\n",
    "\n",
    "round((math.factorial(5)/(math.factorial(3)*math.factorial(2)))/(math.factorial(9)/(math.factorial(3)*math.factorial(6))),3)"
   ]
  },
  {
   "cell_type": "code",
   "execution_count": 153,
   "metadata": {},
   "outputs": [],
   "source": [
    "def exp(array, positiv_ivent, n):\n",
    "    list_p = []\n",
    "    for j in range(n):\n",
    "        arr = array\n",
    "        s=0\n",
    "        for i in range(n):\n",
    "            shuffle(arr)\n",
    "            if positiv_ivent == arr[:len(positiv_ivent)]:\n",
    "                s+=1\n",
    "        list_p.append(s/n)\n",
    "    return list_p\n",
    "\n",
    "def interval(list_p):\n",
    "    result = st.t.interval(alpha=0.99, df=len(list_p)-1,\n",
    "              loc=np.mean(list_p),\n",
    "              scale=st.sem(list_p))\n",
    "    return result"
   ]
  },
  {
   "cell_type": "code",
   "execution_count": 155,
   "metadata": {},
   "outputs": [],
   "source": [
    "# Расчитаем вероятность появления события ['orange','orange','orange'] в 1000 экспериментах \n",
    "# 1000 раз и посмотрим на среднее значение вероятности \n",
    "\n",
    "arr = ['orange','orange','orange','orange','orange',\n",
    "          'apple','apple','apple','apple']\n",
    "iv = ['orange','orange','orange']\n",
    "p = exp(arr, iv, 1000)"
   ]
  },
  {
   "cell_type": "code",
   "execution_count": 148,
   "metadata": {},
   "outputs": [
    {
     "data": {
      "text/plain": [
       "count    1000.000000\n",
       "mean        0.118658\n",
       "std         0.010133\n",
       "min         0.088000\n",
       "25%         0.111000\n",
       "50%         0.119000\n",
       "75%         0.125000\n",
       "max         0.153000\n",
       "dtype: float64"
      ]
     },
     "execution_count": 148,
     "metadata": {},
     "output_type": "execute_result"
    }
   ],
   "source": [
    "pd.Series(p).describe()"
   ]
  },
  {
   "cell_type": "code",
   "execution_count": 154,
   "metadata": {},
   "outputs": [
    {
     "data": {
      "text/plain": [
       "(0.11783103781129102, 0.11948496218870898)"
      ]
     },
     "execution_count": 154,
     "metadata": {},
     "output_type": "execute_result"
    }
   ],
   "source": [
    "# Доверительный интервал для среднего распределения вероятностей\n",
    "interval(p)"
   ]
  },
  {
   "cell_type": "markdown",
   "metadata": {},
   "source": [
    "***Вывод:***\n",
    "\n",
    "Вероятность события ['orange','orange','orange'] по результатам эксперимента надодится в интервале от 0.088 до 0.153 со средним 0.118, значение рассчитанное аналитически находится в границах доверительного интервала  (0.11783103781129102,0.11948496218870898). Исходя из этого мы можем говорить, что аналитический расчет подтверждается эксперементально."
   ]
  },
  {
   "cell_type": "markdown",
   "metadata": {
    "id": "g7A7QlvGTnwZ"
   },
   "source": [
    "### Задача 3\n",
    "Мастер, имея 10 деталей, из которых 3 – нестандартных, проверяет детали одну за другой, пока ему не попадется стандартная. Какова вероятность, что он проверит ровно две детали?\n",
    "\n",
    "\n",
    "В интернете полученный аналитически ответ 7/30 или 0.23333. Подтверждается ли он эксперементально?"
   ]
  },
  {
   "cell_type": "code",
   "execution_count": 159,
   "metadata": {},
   "outputs": [
    {
     "data": {
      "text/plain": [
       "0.23333333333333334"
      ]
     },
     "execution_count": 159,
     "metadata": {},
     "output_type": "execute_result"
    }
   ],
   "source": [
    "# аналитическое решение\n",
    "3/10 * 7/9"
   ]
  },
  {
   "cell_type": "code",
   "execution_count": 156,
   "metadata": {},
   "outputs": [],
   "source": [
    "arr = ['standard','standard','standard','standard','standard','standard','standard',\n",
    "       'non-standard','non-standard','non-standard']\n",
    "iv = ['non-standard','standard']\n",
    "\n",
    "p = exp(arr, iv, 1000)"
   ]
  },
  {
   "cell_type": "code",
   "execution_count": 157,
   "metadata": {},
   "outputs": [
    {
     "data": {
      "text/plain": [
       "count    1000.000000\n",
       "mean        0.234149\n",
       "std         0.013257\n",
       "min         0.195000\n",
       "25%         0.225000\n",
       "50%         0.234000\n",
       "75%         0.243000\n",
       "max         0.278000\n",
       "dtype: float64"
      ]
     },
     "execution_count": 157,
     "metadata": {},
     "output_type": "execute_result"
    }
   ],
   "source": [
    "pd.Series(p).describe()"
   ]
  },
  {
   "cell_type": "code",
   "execution_count": 158,
   "metadata": {},
   "outputs": [
    {
     "data": {
      "text/plain": [
       "(0.23306710893156088, 0.2352308910684391)"
      ]
     },
     "execution_count": 158,
     "metadata": {},
     "output_type": "execute_result"
    }
   ],
   "source": [
    "# Доверительный интервал для среднего распределения вероятностей\n",
    "interval(p)"
   ]
  },
  {
   "cell_type": "markdown",
   "metadata": {},
   "source": [
    "***Вывод:***\n",
    "\n",
    "Вероятность события ['non-standard','standard'] по результатам эксперимента надодится в интервале от 0.195 до 0.278 со средним 0.23414, значение рассчитанное аналитически находится в границах доверительного интервала  (0.23306710893156088, 0.2352308910684391). Исходя из этого мы можем говорить, что аналитический расчет подтверждается эксперементально."
   ]
  }
 ],
 "metadata": {
  "celltoolbar": "Raw Cell Format",
  "colab": {
   "collapsed_sections": [],
   "name": "Практика к занятию 11.ipynb",
   "provenance": []
  },
  "kernelspec": {
   "display_name": "Python 3 (ipykernel)",
   "language": "python",
   "name": "python3"
  },
  "language_info": {
   "codemirror_mode": {
    "name": "ipython",
    "version": 3
   },
   "file_extension": ".py",
   "mimetype": "text/x-python",
   "name": "python",
   "nbconvert_exporter": "python",
   "pygments_lexer": "ipython3",
   "version": "3.9.7"
  }
 },
 "nbformat": 4,
 "nbformat_minor": 1
}
